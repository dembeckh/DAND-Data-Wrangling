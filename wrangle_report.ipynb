{
 "cells": [
  {
   "cell_type": "markdown",
   "metadata": {},
   "source": [
    "Data Wrangling Report\n",
    "===================\n",
    "\n",
    "## Introduction\n",
    "The task in the project is to gather data connected with the Twitter account \"WeRateDogs\" from different sources, assess this data, clean it and do some basic analysis.\n",
    "\n",
    "## Data Gathering\n",
    "The data for the project comes from different sources. First there is the data from the account @dog_rates (WeRateDogs). This was provided by Udacity to be downloaded manually from their website. This data is the tweet archive from the account itself. The data was kept in the dataframe `twitter_archive`.\n",
    "\n",
    "Second there is data from a neural network from Udacity that classifies the breeds of the dogs within each tweet of the twitter archive. This data was to be downloaded programmatically from a Udacity webserver. For the wrangling process it was loaded into the dataframe `img_pred`. \n",
    "\n",
    "The last data was additional data for the tweets. This data was to be downloaded from Twitter itself using an API. Afterwards the data had to be converted from JSON to a Pandas dataframe, named `add_twitter_data`.\n",
    "\n",
    "## Assessing\n",
    "The data was not clean and it showed several tidiness issues. Some problems for the individual tables were:\n",
    "\n",
    "### `twitter_archive`\n",
    "For several columns the dataype was not correct. For example the id columns were all int, but should have been str, as they serve as names like zip codes. The timestamps were were objects (strings) and had to be converted to datetime.\n",
    "\n",
    "The table contains a lot of 'None' values which are are simple strings, but no NumPy NaNs. Some of the column's names are not very descriptive.\n",
    "\n",
    "The table contains also data that is not needed for the analysis, e.g. data of retweets. For this project we are only interested in original tweets. A number of rows also contain no photos, what makes this data unnecessary as well.\n",
    "\n",
    "It is noticeable that in the column `name` a number of entries are not dog names, but articles like 'a' or 'an', and a lot of rows contain 'None'. \n",
    "\n",
    "A few rows did not have the standard denominator for the rating of 10. While the numerator is supposed to be larger than the denominator, a smaller number exceeds 10 by far.\n",
    "\n",
    "A tidiness problem of this table is that it contains four columns for the dogs stages, i.e. that one variable is distributed over four columns which violates the principle that each variable forms a column. \n",
    "### `img_pred`\n",
    "The names in this table are not very descriptive, what makes it difficult to understand the variables. Also the datatype for the tweet id is an integer instead of a string.\n",
    "\n",
    "To comply with the definition of a tidy dataset, the table has to be merged with the table `twitter_archive` so that each observation is a row. \n",
    "\n",
    "### `add_twitter_data`\n",
    "Same as for `img_pred` this table has to be merged with the table `twitter_archive` so that each observation is a row. \n",
    "\n",
    "## Cleaning\n",
    "I started the cleaning process by merging the tables tables on the `tweet_id` column into the table `twitter_master` so that I can do some of the cleaning in one step, e.g. converting datatypes.\n",
    "\n",
    "Basically I addressed all of the above mentioned issues. I replaced 'None' values in the table with NumPy NaNs, so that aggregations would not be distorted. I also replaced some not so descriptive column names with more descriptive ones. I dropped a number of columns, which were not needed, and a number of rows with missing or erroneous data, watching out that I do not lose too much of the data. And I have combined the four columns of the dog stages into one.\n",
    "\n"
   ]
  }
 ],
 "metadata": {
  "kernelspec": {
   "display_name": "Python 3",
   "language": "python",
   "name": "python3"
  },
  "language_info": {
   "codemirror_mode": {
    "name": "ipython",
    "version": 3
   },
   "file_extension": ".py",
   "mimetype": "text/x-python",
   "name": "python",
   "nbconvert_exporter": "python",
   "pygments_lexer": "ipython3",
   "version": "3.7.3"
  }
 },
 "nbformat": 4,
 "nbformat_minor": 2
}
