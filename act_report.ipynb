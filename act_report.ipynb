{
 "cells": [
  {
   "cell_type": "markdown",
   "metadata": {},
   "source": [
    "WeRateDogs - Act report\n",
    "=========================\n",
    "\n",
    "### Data\n",
    "WeRateDogs is a Twitter account that rates people' dogs together with a humerous comment. Though the ratings denominator is 10, the ratings themselves are usually larger than that. For this project they provided their Twitter archive with their tweets and some metadata including links to pictures of the dogs. More data was obtained using a neural network to classify the breeds, and downloading it from Twitter itself using an API.\n",
    "\n",
    "Before the analysis the data had to be assessed and cleaned, and the three different tables had to be merged into into one. \n",
    "\n",
    "### Insights\n",
    "I took a look at the ratings. The very large values were removed in the cleaning process and only values with a maximum of 14 were kept. The distribution of the remaining values looks like this.\n",
    "![Ratings Distribution](ratings_distribution.png)\n",
    "The figure shows that the distribution is left skewed and that the majority of the ratings is 10 or larger. The median is 11 by the way and the mean 10.62. So most of the dogs are indeed good dogs.\n",
    "\n",
    "A number of the analysed tweets also mention a so-called dog stage. First there is a 'doggo', a big pupper, usually older. And then the other way round there is a 'pupper' which is a small doggo and usually younger. Then there is a 'puppo', a dog in a stage between a doggo and a pupper. Finally there is a floofer, a stage that is usually used for dogs with excessive fur. The four stages are not evenly distributed as the following figures shows.\n",
    "![Dog Stages](dog_stages.png)\n",
    "Of the cases where the tweet names a stage, almost two thirds are puppers and a quarter are doggos. Puppos and floofers combined make up for less than 10 percent.\n",
    "\n",
    "Using a neural network the pictures attached to the tweets could be used to classify the breeds of the dogs. The resulting list is 112 breeds long, so I focused on the distribution of the most popular breeds.\n",
    "![Top 10 Breeds](top_10_breeds.png)\n",
    "The most popular breeds are retrievers. In the top 10 of breeds Golden retrievers and Labrador retrievers together make up more than one third of all dogs. When all breeds are considered, retrievers still make up more than 12 % of all dogs."
   ]
  }
 ],
 "metadata": {
  "kernelspec": {
   "display_name": "Python 3",
   "language": "python",
   "name": "python3"
  },
  "language_info": {
   "codemirror_mode": {
    "name": "ipython",
    "version": 3
   },
   "file_extension": ".py",
   "mimetype": "text/x-python",
   "name": "python",
   "nbconvert_exporter": "python",
   "pygments_lexer": "ipython3",
   "version": "3.7.3"
  }
 },
 "nbformat": 4,
 "nbformat_minor": 2
}
